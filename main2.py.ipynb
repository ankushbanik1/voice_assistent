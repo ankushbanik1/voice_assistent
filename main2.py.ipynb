{
 "cells": [
  {
   "cell_type": "code",
   "execution_count": null,
   "metadata": {},
   "outputs": [
    {
     "name": "stdout",
     "output_type": "stream",
     "text": [
      "computer:How may i help You?\n",
      "computer:Do you want to take a quize ?\n",
      "computer:Sorry ! i did not get what you said please say it again\n",
      "computer:What do you want to Ask ?\n",
      "computer:8 °C\n",
      "(44 minutes ago)\n",
      "computer:Sorry ! i did not get what you said please say it again\n"
     ]
    }
   ],
   "source": [
    "import speech_recognition as sr\n",
    "import webbrowser\n",
    "import time\n",
    "import os\n",
    "import random\n",
    "import pyttsx3\n",
    "from time import ctime\n",
    "\n",
    "r=sr.Recognizer()\n",
    "\n",
    "speaker=pyttsx3.init('sapi5')\n",
    "voices=speaker.getProperty('voices')\n",
    "speaker.setProperty('voice',voices[1].id)\n",
    "rate=speaker.getProperty('rate')\n",
    "speaker.setProperty('rate',173)\n",
    "\n",
    "def speak(audio_str):\n",
    "    print('computer:'+audio_str)\n",
    "    speaker.say(audio_str)\n",
    "    speaker.runAndWait()\n",
    "\n",
    "def record_audio(ask=False):\n",
    "    with sr.Microphone() as source:\n",
    "        if ask:\n",
    "            speak(ask)\n",
    "        audio=r.listen(source)\n",
    "        voice_data=' '\n",
    "        try:\n",
    "            voice_data=r.recognize_google(audio)\n",
    "        except sr.UnknownValueError:\n",
    "            speak(\"Sorry ! i did not get what you said please say it again\")    \n",
    "        except sr.RequestError:\n",
    "            speak(\"sorry server down\")\n",
    "\n",
    "        return voice_data    \n",
    "\n",
    "import wolframalpha \n",
    "client = wolframalpha.Client('PTXAVW-7G94KUAYPA') \n",
    " \n",
    "  \n",
    "# Includes only text from the response \n",
    "          \n",
    "       \n",
    "def respond(voice_data):\n",
    "    if 'what is your name' in voice_data:\n",
    "        speak('My name is Alexis')\n",
    "    if 'what is the  time' in voice_data:\n",
    "        speak(ctime())\n",
    "    if 'question' in voice_data:\n",
    "        question = record_audio('What do you want to Ask ?')\n",
    "        \n",
    "\n",
    "        res = client.query(question) \n",
    "        answer = next(res.results).text \n",
    "        speak(answer)    \n",
    "    if 'search' in voice_data:\n",
    "        \n",
    "        speak('What do you want to search for?')\n",
    "        search = record_audio('What do you want to search for?')\n",
    "        url = 'https://google.com/search?q=' + search\n",
    "        webbrowser.get().open(url)\n",
    "        speak('Here is what I found for ' + search)\n",
    "    if 'find location' in voice_data:\n",
    "        location = record_audio('What is the location?')\n",
    "        url = 'https://google.nl/maps/place/' + location + '/&amp;'\n",
    "        webbrowser.get().open(url)\n",
    "        speak('Here is the location of ' + location)\n",
    "    if 'exit' in voice_data:\n",
    "        exit()\n",
    "if __name__ == \"__main__\":\n",
    "    time.sleep(1)\n",
    "    speak(\"How may i help You?\")\n",
    "    speak(\"Do you want to take a quize ?\")\n",
    "\n",
    "    while 1:\n",
    "        voice_data=record_audio()\n",
    "        respond(voice_data)\n",
    "      "
   ]
  },
  {
   "cell_type": "code",
   "execution_count": null,
   "metadata": {},
   "outputs": [],
   "source": []
  },
  {
   "cell_type": "code",
   "execution_count": null,
   "metadata": {},
   "outputs": [],
   "source": []
  }
 ],
 "metadata": {
  "kernelspec": {
   "display_name": "Python 3",
   "language": "python",
   "name": "python3"
  },
  "language_info": {
   "codemirror_mode": {
    "name": "ipython",
    "version": 3
   },
   "file_extension": ".py",
   "mimetype": "text/x-python",
   "name": "python",
   "nbconvert_exporter": "python",
   "pygments_lexer": "ipython3",
   "version": "3.7.1"
  }
 },
 "nbformat": 4,
 "nbformat_minor": 2
}
